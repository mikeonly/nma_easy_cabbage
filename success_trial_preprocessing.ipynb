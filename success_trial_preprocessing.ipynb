{
  "nbformat": 4,
  "nbformat_minor": 0,
  "metadata": {
    "colab": {
      "name": "data_preprocess.ipynb",
      "provenance": [],
      "collapsed_sections": [],
      "authorship_tag": "ABX9TyPWzsnqSMqApcQMAXxc5XCG",
      "include_colab_link": true
    },
    "kernelspec": {
      "name": "python3",
      "display_name": "Python 3"
    }
  },
  "cells": [
    {
      "cell_type": "markdown",
      "metadata": {
        "id": "view-in-github",
        "colab_type": "text"
      },
      "source": [
        "<a href=\"https://colab.research.google.com/github/mikeonly/nma_easy_cabbage/blob/master/success_trial_preprocessing.ipynb\" target=\"_parent\"><img src=\"https://colab.research.google.com/assets/colab-badge.svg\" alt=\"Open In Colab\"/></a>"
      ]
    },
    {
      "cell_type": "code",
      "metadata": {
        "id": "oFkY6gTi4vxB",
        "colab_type": "code",
        "colab": {
          "base_uri": "https://localhost:8080/",
          "height": 52
        },
        "outputId": "db4ec90d-4d4a-4ce3-f12c-f989a3c77e76"
      },
      "source": [
        "#mount google drive\n",
        "from google.colab import drive\n",
        "drive.mount('/content/gdrive/')\n",
        "%cd /content/gdrive/My Drive/Colab Notebooks/NMA"
      ],
      "execution_count": null,
      "outputs": [
        {
          "output_type": "stream",
          "text": [
            "Drive already mounted at /content/gdrive/; to attempt to forcibly remount, call drive.mount(\"/content/gdrive/\", force_remount=True).\n",
            "/content/gdrive/My Drive/Colab Notebooks/NMA\n"
          ],
          "name": "stdout"
        }
      ]
    },
    {
      "cell_type": "code",
      "metadata": {
        "id": "lYV1AoR_qgYh",
        "colab_type": "code",
        "colab": {}
      },
      "source": [
        "import os, requests\n",
        "\n",
        "#repurposed from load_steinmetz_descision.ipynb\n",
        "fname = []\n",
        "for j in range(3):\n",
        "  fname.append('steinmetz_part%d.npz'%j)\n",
        "url = [\"https://osf.io/agvxh/download\"]\n",
        "url.append(\"https://osf.io/uv3mw/download\")\n",
        "url.append(\"https://osf.io/ehmw2/download\")\n",
        "\n",
        "for j in range(len(url)):\n",
        "  if not os.path.isfile(fname[j]):\n",
        "    try:\n",
        "      r = requests.get(url[j])\n",
        "    except requests.ConnectionError:\n",
        "      print(\"!!! Failed to download data !!!\")\n",
        "    else:\n",
        "      if r.status_code != requests.codes.ok:\n",
        "        print(\"!!! Failed to download data !!!\")\n",
        "      else:\n",
        "        with open(fname[j], \"wb\") as fid:\n",
        "          fid.write(r.content)\n",
        "\n",
        "#repurposed from load_steinmetz_extra.ipynb\n",
        "fname = []\n",
        "fname = ['steinmetz_st.npz']\n",
        "\n",
        "url = [\"https://osf.io/4bjns/download\"]\n",
        "\n",
        "for j in range(len(url)):\n",
        "  if not os.path.isfile(fname[j]):\n",
        "    try:\n",
        "      r = requests.get(url[j])\n",
        "    except requests.ConnectionError:\n",
        "      print(\"!!! Failed to download data !!!\")\n",
        "    else:\n",
        "      if r.status_code != requests.codes.ok:\n",
        "        print(\"!!! Failed to download data !!!\")\n",
        "      else:\n",
        "        with open(fname[j], \"wb\") as fid:\n",
        "          fid.write(r.content)"
      ],
      "execution_count": null,
      "outputs": []
    },
    {
      "cell_type": "code",
      "metadata": {
        "id": "XUTs6WD0194z",
        "colab_type": "code",
        "colab": {}
      },
      "source": [
        "import numpy as np\n",
        "import pickle\n",
        "\n",
        "alldat = np.array([])\n",
        "for j in range(3):\n",
        "  alldat = np.hstack((alldat, np.load('steinmetz_part%d.npz'%j, allow_pickle=True)['dat']))\n",
        "\n",
        "dat_ST = np.load('steinmetz_st.npz', allow_pickle=True)['dat']"
      ],
      "execution_count": null,
      "outputs": []
    },
    {
      "cell_type": "code",
      "metadata": {
        "id": "1-HAzOxJfEZx",
        "colab_type": "code",
        "colab": {}
      },
      "source": [
        "b_label_dict = {}\n",
        "for s_no in range(0, len(alldat)):\n",
        "  for n_no in range (0, len(dat_ST[s_no]['ss'])):\n",
        "    if s_no not in b_label_dict:\n",
        "      b_label_dict[s_no] = {}\n",
        "    \n",
        "    b_label_dict[s_no][n_no] =  alldat[s_no]['brain_area'][n_no]"
      ],
      "execution_count": null,
      "outputs": []
    },
    {
      "cell_type": "code",
      "metadata": {
        "id": "Tt7xMbP_dEOj",
        "colab_type": "code",
        "colab": {}
      },
      "source": [
        "with open(\"loc_labels.pickle\", \"wb\") as f:\n",
        "  pickle.dump(b_label_dict, f)"
      ],
      "execution_count": null,
      "outputs": []
    },
    {
      "cell_type": "code",
      "metadata": {
        "id": "MBKxvpYpq0yk",
        "colab_type": "code",
        "colab": {}
      },
      "source": [
        "\n",
        "#store indices of pos and neg feedback as (session,trial)\n",
        "pos_fback = []\n",
        "neg_fback = []\n",
        "\n",
        "for session in range(0, len(alldat)):\n",
        "  for trial in range(0, len(alldat[session])):\n",
        "    if alldat[session]['feedback_type'][trial] == -1:\n",
        "      neg_fback.append((session,trial))\n",
        "    # if alldat[session]['feedback_type'][trial] == +1:\n",
        "    #   pos_fback.append((session,trial))\n",
        "\n",
        "isi_p_track = []\n",
        "isi_n_track = []\n",
        "isi_p = []\n",
        "isi_n = []\n",
        "for tup in pos_fback:\n",
        "  s_no = tup[0] #session number\n",
        "  t_no = tup[1] #trial number\n",
        "  n_no = len(dat_ST[s_no]['ss']) #total neurons\n",
        "  for n in range(n_no):\n",
        "    spikes = dat_ST[s_no]['ss'][n][t_no]\n",
        "    if len(spikes ) != 0:\n",
        "      n_isi = np.diff(spikes)\n",
        "      isi_p.append(list(n_isi))\n",
        "      b_region = alldat[s_no]['brain_area'][n]\n",
        "      isi_p_track.append((s_no, t_no, n, b_region))\n",
        "\n",
        "\n",
        "for tup in neg_fback:\n",
        "  s_no = tup[0] #session number\n",
        "  t_no = tup[1] #trial number\n",
        "  n_no = len(dat_ST[s_no]['ss']) #total neurons\n",
        "  for n in range(n_no):\n",
        "    spikes = dat_ST[s_no]['ss'][n][t_no]\n",
        "    if len(spikes ) != 0:\n",
        "      n_isi = np.diff(spikes)\n",
        "      isi_n.append(list(n_isi))\n",
        "      b_region = alldat[s_no]['brain_area'][n]\n",
        "      isi_n_track.append((s_no, t_no, n, b_region))\n",
        "\n"
      ],
      "execution_count": null,
      "outputs": []
    },
    {
      "cell_type": "code",
      "metadata": {
        "id": "DwmvKQAw-nGo",
        "colab_type": "code",
        "colab": {}
      },
      "source": [
        "with open(\"pos_processed_data.pickle\",\"wb\") as f:\n",
        "  pickle.dump(isi_p,f)"
      ],
      "execution_count": null,
      "outputs": []
    },
    {
      "cell_type": "code",
      "metadata": {
        "id": "2t4jenWS5B_r",
        "colab_type": "code",
        "colab": {}
      },
      "source": [
        "with open(\"neg_isi.pickle\",\"wb\") as f:\n",
        "  pickle.dump(isi_n,f)"
      ],
      "execution_count": null,
      "outputs": []
    },
    {
      "cell_type": "code",
      "metadata": {
        "id": "UeI7pUEw7N7q",
        "colab_type": "code",
        "colab": {}
      },
      "source": [
        "with open(\"neg_isi_track.pickle\",\"wb\") as f:\n",
        "  pickle.dump(isi_n_track,f)"
      ],
      "execution_count": null,
      "outputs": []
    },
    {
      "cell_type": "code",
      "metadata": {
        "id": "rZLAif_79cEH",
        "colab_type": "code",
        "colab": {}
      },
      "source": [
        "with open(\"pos_isi_track.pickle\",\"wb\") as f:\n",
        "  pickle.dump(isi_p_track,f)"
      ],
      "execution_count": null,
      "outputs": []
    }
  ]
}