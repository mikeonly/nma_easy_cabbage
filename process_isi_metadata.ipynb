{
  "nbformat": 4,
  "nbformat_minor": 0,
  "metadata": {
    "colab": {
      "name": "process_isi_metadata.ipynb",
      "provenance": [],
      "authorship_tag": "ABX9TyOGTDkx1Ik/icdCutI3MHYz",
      "include_colab_link": true
    },
    "kernelspec": {
      "name": "python3",
      "display_name": "Python 3"
    }
  },
  "cells": [
    {
      "cell_type": "markdown",
      "metadata": {
        "id": "view-in-github",
        "colab_type": "text"
      },
      "source": [
        "<a href=\"https://colab.research.google.com/github/mikeonly/nma_easy_cabbage/blob/master/process_isi_metadata.ipynb\" target=\"_parent\"><img src=\"https://colab.research.google.com/assets/colab-badge.svg\" alt=\"Open In Colab\"/></a>"
      ]
    },
    {
      "cell_type": "code",
      "metadata": {
        "id": "Oi7KwCLTwJeB",
        "colab_type": "code",
        "colab": {}
      },
      "source": [
        "#mount google drive\n",
        "from google.colab import drive\n",
        "drive.mount('/content/gdrive/')\n",
        "%cd /content/gdrive/My Drive/Colab Notebooks/NMA/Data"
      ],
      "execution_count": null,
      "outputs": []
    },
    {
      "cell_type": "code",
      "metadata": {
        "id": "FRPj0_J_wSnz",
        "colab_type": "code",
        "colab": {}
      },
      "source": [
        "import os, requests\n",
        "\n",
        "fname = []\n",
        "fname = ['steinmetz_st.npz']\n",
        "\n",
        "url = [\"https://osf.io/4bjns/download\"]\n",
        "\n",
        "for j in range(len(url)):\n",
        "  if not os.path.isfile(fname[j]):\n",
        "    try:\n",
        "      r = requests.get(url[j])\n",
        "    except requests.ConnectionError:\n",
        "      print(\"!!! Failed to download data !!!\")\n",
        "    else:\n",
        "      if r.status_code != requests.codes.ok:\n",
        "        print(\"!!! Failed to download data !!!\")\n",
        "      else:\n",
        "        with open(fname[j], \"wb\") as fid:\n",
        "          fid.write(r.content)"
      ],
      "execution_count": 2,
      "outputs": []
    },
    {
      "cell_type": "code",
      "metadata": {
        "id": "oGWZuv4Owfa0",
        "colab_type": "code",
        "colab": {}
      },
      "source": [
        "import numpy as np\n",
        "import pickle\n",
        "\n",
        "dat_ST = np.load('steinmetz_st.npz', allow_pickle=True)['dat']"
      ],
      "execution_count": 3,
      "outputs": []
    },
    {
      "cell_type": "code",
      "metadata": {
        "id": "0t7G_8Qsx45Z",
        "colab_type": "code",
        "colab": {}
      },
      "source": [
        "isi = [] #contains lists of isi\n",
        "metadata = [] #contains corresponding metadata in tuple (session, trial, neuron)\n",
        "# iterate over sessions\n",
        "for s_no in range(0,dat_ST.shape[0]):\n",
        "  #iterate over sessions for a given trial\n",
        "  for t_no in range(0, dat_ST[s_no]['ss'].shape[1]): \n",
        "    #iterate over neurons for a given trial in a session\n",
        "    for n_no in range(0, dat_ST[s_no]['ss'].shape[0]):\n",
        "      #get spike times for the selected neuron\n",
        "      spikes = dat_ST[s_no]['ss'][n_no][t_no]\n",
        "      #check if atleast two the neuron spikes atleast twice\n",
        "      if (len(spikes) > 1):\n",
        "        n_isi = np.diff(spikes)\n",
        "        #do NOT use numpy here as jagged arrays are not allowed\n",
        "        isi.append(list(n_isi))\n",
        "        metadata.append((s_no, t_no, n_no))"
      ],
      "execution_count": 10,
      "outputs": []
    },
    {
      "cell_type": "code",
      "metadata": {
        "id": "DUH3NQSt3tq7",
        "colab_type": "code",
        "colab": {}
      },
      "source": [
        "#use the following snippet for saving the two arrays\n",
        "#Note: isi is NOT a numpy array, hence pickle is preferred\n",
        "\n",
        "with open(\"isi.pkl\", \"wb\") as f:\n",
        "  pickle.dump(isi, f)\n",
        "\n",
        "with open(\"isi_metadata.pkl\", \"wb\") as f:\n",
        "  pickle.dump(metadata, f)"
      ],
      "execution_count": null,
      "outputs": []
    }
  ]
}