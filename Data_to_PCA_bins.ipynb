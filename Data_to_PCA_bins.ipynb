{
 "cells": [
  {
   "cell_type": "markdown",
   "metadata": {
    "colab_type": "text",
    "id": "DrBpVlJzgR9o"
   },
   "source": [
    "# Packages\n"
   ]
  },
  {
   "cell_type": "code",
   "execution_count": 2,
   "metadata": {
    "colab": {},
    "colab_type": "code",
    "executionInfo": {
     "elapsed": 590,
     "status": "ok",
     "timestamp": 1595439939361,
     "user": {
      "displayName": "Inge Bieger",
      "photoUrl": "https://lh3.googleusercontent.com/a-/AOh14Gg19iV-n7hy-5cBjBuNAo8XrK8iM-12R51FYKLW=s64",
      "userId": "00746164409980832396"
     },
     "user_tz": -120
    },
    "id": "uJNWZ3J-gbbl"
   },
   "outputs": [],
   "source": [
    "import os, requests\n",
    "import numpy as np\n",
    "import matplotlib.pyplot as plt \n",
    "import pickle"
   ]
  },
  {
   "cell_type": "code",
   "execution_count": null,
   "metadata": {
    "colab": {
     "base_uri": "https://localhost:8080/",
     "height": 34
    },
    "colab_type": "code",
    "executionInfo": {
     "elapsed": 615,
     "status": "ok",
     "timestamp": 1595438195828,
     "user": {
      "displayName": "Inge Bieger",
      "photoUrl": "https://lh3.googleusercontent.com/a-/AOh14Gg19iV-n7hy-5cBjBuNAo8XrK8iM-12R51FYKLW=s64",
      "userId": "00746164409980832396"
     },
     "user_tz": -120
    },
    "id": "3BY5nJq5auSo",
    "outputId": "b0b4487b-2496-4229-965f-66a438407d43"
   },
   "outputs": [],
   "source": [
    "# from google.colab import drive\n",
    "# drive.mount('/content/drive/') \n"
   ]
  },
  {
   "cell_type": "code",
   "execution_count": null,
   "metadata": {
    "colab": {
     "base_uri": "https://localhost:8080/",
     "height": 50
    },
    "colab_type": "code",
    "executionInfo": {
     "elapsed": 1808,
     "status": "ok",
     "timestamp": 1595438197028,
     "user": {
      "displayName": "Inge Bieger",
      "photoUrl": "https://lh3.googleusercontent.com/a-/AOh14Gg19iV-n7hy-5cBjBuNAo8XrK8iM-12R51FYKLW=s64",
      "userId": "00746164409980832396"
     },
     "user_tz": -120
    },
    "id": "oYRglRqFgzgQ",
    "outputId": "f5dc08cd-62ca-4564-e6e6-0752a2907982"
   },
   "outputs": [],
   "source": [
    "# !ls \"/content/drive/\"\n",
    "# %cd '/content/drive/My Drive/NMA_EasyCabbage'"
   ]
  },
  {
   "cell_type": "markdown",
   "metadata": {
    "colab_type": "text",
    "id": "7QMedPhQgkMN"
   },
   "source": [
    "# Data retrieval\n"
   ]
  },
  {
   "cell_type": "code",
   "execution_count": 4,
   "metadata": {
    "colab": {
     "base_uri": "https://localhost:8080/",
     "height": 34
    },
    "colab_type": "code",
    "executionInfo": {
     "elapsed": 1797,
     "status": "ok",
     "timestamp": 1595438197029,
     "user": {
      "displayName": "Inge Bieger",
      "photoUrl": "https://lh3.googleusercontent.com/a-/AOh14Gg19iV-n7hy-5cBjBuNAo8XrK8iM-12R51FYKLW=s64",
      "userId": "00746164409980832396"
     },
     "user_tz": -120
    },
    "id": "TzfJaEvDgsZR",
    "outputId": "15e405c6-051c-4825-c8ea-273ed92dbce8"
   },
   "outputs": [
    {
     "data": {
      "text/plain": [
       "['steinmetz_part0.npz', 'steinmetz_part1.npz', 'steinmetz_part2.npz']"
      ]
     },
     "execution_count": 4,
     "metadata": {},
     "output_type": "execute_result"
    }
   ],
   "source": [
    "# get file names\n",
    "fname = []\n",
    "for j in range(3):\n",
    "    fname.append('steinmetz_part%d.npz'%j)\n",
    "fname"
   ]
  },
  {
   "cell_type": "code",
   "execution_count": 8,
   "metadata": {
    "colab": {},
    "colab_type": "code",
    "executionInfo": {
     "elapsed": 1789,
     "status": "ok",
     "timestamp": 1595438197030,
     "user": {
      "displayName": "Inge Bieger",
      "photoUrl": "https://lh3.googleusercontent.com/a-/AOh14Gg19iV-n7hy-5cBjBuNAo8XrK8iM-12R51FYKLW=s64",
      "userId": "00746164409980832396"
     },
     "user_tz": -120
    },
    "id": "x0-kl1k2g5sA"
   },
   "outputs": [],
   "source": [
    "# if nessescary: download data (now stored on the drive)\n",
    "def download_data(fname):\n",
    "    \"\"\"\n",
    "    This function downloads the data required datasets from the Steinmetz website\n",
    "\n",
    "    Args:\n",
    "        fname (list of str): filenames of required datasets\n",
    "\n",
    "      \"\"\"\n",
    "    url = [\"https://osf.io/agvxh/download\"]\n",
    "    url.append(\"https://osf.io/uv3mw/download\")\n",
    "    url.append(\"https://osf.io/ehmw2/download\")\n",
    "    for j in range(len(url)):\n",
    "        if not os.path.isfile(fname[j]):\n",
    "            try:\n",
    "                r = requests.get(url[j])\n",
    "            except requests.ConnectionError:\n",
    "                print(\"!!! Failed to download data !!!\")\n",
    "            else:\n",
    "                if r.status_code != requests.codes.ok:\n",
    "                    print(\"!!! Failed to download data !!!\")\n",
    "                else:\n",
    "                    with open(fname[j], \"wb\") as fid:\n",
    "                        fid.write(r.content)\n",
    "\n",
    "download_data(fname)"
   ]
  },
  {
   "cell_type": "code",
   "execution_count": 10,
   "metadata": {
    "colab": {},
    "colab_type": "code",
    "executionInfo": {
     "elapsed": 42674,
     "status": "ok",
     "timestamp": 1595438237920,
     "user": {
      "displayName": "Inge Bieger",
      "photoUrl": "https://lh3.googleusercontent.com/a-/AOh14Gg19iV-n7hy-5cBjBuNAo8XrK8iM-12R51FYKLW=s64",
      "userId": "00746164409980832396"
     },
     "user_tz": -120
    },
    "id": "mc0KEdqyhE8C"
   },
   "outputs": [],
   "source": [
    "def load_data(fname):\n",
    "    \"\"\"\n",
    "  This function loads data and stacks them horiontally\n",
    "\n",
    "  Args:\n",
    "      fname (list of str): file names of the required datasets\n",
    "\n",
    "  Returns:\n",
    "      (np.array): steinmetz data\n",
    "      \"\"\"\n",
    "    alldat = np.array([])\n",
    "    for j in range(len(fname)):\n",
    "        alldat = np.hstack((alldat, np.load('data/'+ fname[j], allow_pickle=True)['dat']))\n",
    "\n",
    "    return alldat\n",
    "\n",
    "all_dat = load_data(fname)"
   ]
  },
  {
   "cell_type": "markdown",
   "metadata": {
    "colab_type": "text",
    "id": "Hgvv0gJHhTp7"
   },
   "source": [
    "# Constants"
   ]
  },
  {
   "cell_type": "code",
   "execution_count": 11,
   "metadata": {
    "colab": {
     "base_uri": "https://localhost:8080/",
     "height": 672
    },
    "colab_type": "code",
    "executionInfo": {
     "elapsed": 42670,
     "status": "ok",
     "timestamp": 1595438237922,
     "user": {
      "displayName": "Inge Bieger",
      "photoUrl": "https://lh3.googleusercontent.com/a-/AOh14Gg19iV-n7hy-5cBjBuNAo8XrK8iM-12R51FYKLW=s64",
      "userId": "00746164409980832396"
     },
     "user_tz": -120
    },
    "id": "_dkCBaDAhe_e",
    "outputId": "4a0c0e69-571a-406a-c908-e7a01b32bd42"
   },
   "outputs": [
    {
     "name": "stdout",
     "output_type": "stream",
     "text": [
      "214\n",
      "251\n",
      "228\n",
      "249\n",
      "254\n",
      "290\n",
      "252\n",
      "250\n",
      "372\n",
      "447\n",
      "342\n",
      "340\n",
      "300\n",
      "268\n",
      "404\n",
      "280\n",
      "224\n",
      "316\n",
      "247\n",
      "235\n",
      "124\n",
      "444\n",
      "151\n",
      "187\n",
      "261\n",
      "178\n",
      "253\n",
      "142\n",
      "128\n",
      "143\n",
      "237\n",
      "260\n",
      "191\n",
      "296\n",
      "311\n",
      "258\n",
      "181\n",
      "199\n",
      "343\n"
     ]
    }
   ],
   "source": [
    "N_TIMEPOINTS = all_dat[0]['spks'].shape[-1]\n",
    "BIN_SIZE_DATA = all_dat[0]['bin_size']\n",
    "MAX_INTERVAL = N_TIMEPOINTS*BIN_SIZE_DATA\n",
    "\n",
    "for neurons in all_dat:\n",
    "    print(neurons['spks'].shape[1])"
   ]
  },
  {
   "cell_type": "markdown",
   "metadata": {
    "colab_type": "text",
    "id": "VKU8ZlbEhtfp"
   },
   "source": [
    "# Variable settings"
   ]
  },
  {
   "cell_type": "code",
   "execution_count": 13,
   "metadata": {
    "colab": {},
    "colab_type": "code",
    "executionInfo": {
     "elapsed": 42655,
     "status": "ok",
     "timestamp": 1595438237923,
     "user": {
      "displayName": "Inge Bieger",
      "photoUrl": "https://lh3.googleusercontent.com/a-/AOh14Gg19iV-n7hy-5cBjBuNAo8XrK8iM-12R51FYKLW=s64",
      "userId": "00746164409980832396"
     },
     "user_tz": -120
    },
    "id": "FtpEAHmohqHO"
   },
   "outputs": [],
   "source": [
    "# tested_bin_size\n",
    "bin_size_ISI = 0.05"
   ]
  },
  {
   "cell_type": "markdown",
   "metadata": {
    "colab_type": "text",
    "id": "XmempXEjjSyH"
   },
   "source": [
    "# Helper functions"
   ]
  },
  {
   "cell_type": "code",
   "execution_count": 21,
   "metadata": {
    "colab": {},
    "colab_type": "code",
    "executionInfo": {
     "elapsed": 42644,
     "status": "ok",
     "timestamp": 1595438237923,
     "user": {
      "displayName": "Inge Bieger",
      "photoUrl": "https://lh3.googleusercontent.com/a-/AOh14Gg19iV-n7hy-5cBjBuNAo8XrK8iM-12R51FYKLW=s64",
      "userId": "00746164409980832396"
     },
     "user_tz": -120
    },
    "id": "d_d75k_5jaH9"
   },
   "outputs": [],
   "source": [
    "def normalize(number_array):\n",
    "    n = float(np.sum(number_array))\n",
    "    if not n:\n",
    "        return number_array, n\n",
    "    return number_array/n, n\n",
    "\n",
    "def get_ISI_trial(spike):\n",
    "    spike_times = np.array([])\n",
    "    for t,s in enumerate(spike):\n",
    "        for i in range(s):\n",
    "            spike_times = np.hstack([spike_times, [t]])\n",
    "\n",
    "    spike_intervals = np.diff(spike_times) * BIN_SIZE_DATA\n",
    "    spike_times = np.asarray(spike_times, dtype = float) * BIN_SIZE_DATA \n",
    "    return spike_intervals, spike_times\n",
    "\n",
    "def get_ISI_neuron(neuron, trials):\n",
    "    spike_intervals = np.array([])\n",
    "  \n",
    "    for trial in trials:\n",
    "        spike = neuron[trial]\n",
    "        spike_interval = get_ISI_trial(spike)\n",
    "        spike_intervals = np.hstack([spike_intervals, spike_interval])\n",
    "    return spike_intervals\n",
    "\n",
    "def get_bins(neuron, bin_size_ISI, trials):\n",
    "    spike_intervals = get_ISI_neuron(neuron, trials)\n",
    "    spikes_per_bin, bins = np.histogram(spike_intervals, bins = np.arange(0, MAX_INTERVAL, bin_size_ISI))\n",
    "    spikes_per_bin, n_spikes = normalize(spikes_per_bin)\n",
    "    return spikes_per_bin, n_spikes\n",
    "\n",
    "\n",
    "def get_n_dimensional_neurons(neurons, bin_size_ISI):\n",
    "    neuron_amount = neurons.shape[0]\n",
    "    n_bins = int(MAX_INTERVAL/bin_size_ISI) - 1\n",
    "    n_dimensional_neurons = np.empty((neuron_amount, n_bins))\n",
    "    rel_spikes = np.empty((neuron_amount,1))\n",
    "    trials = [i for i in range(neurons.shape[1])]\n",
    "    for i in range(neuron_amount):\n",
    "        n_dimensional_neurons[i,:], rel_spikes[i,0] = get_bins(neurons[i], bin_size_ISI, trials)\n",
    "\n",
    "    rel_spikes, total_spikes = normalize(rel_spikes)\n",
    "    n_dimensional_neurons = np.hstack([n_dimensional_neurons, rel_spikes])\n",
    "\n",
    "    return n_dimensional_neurons"
   ]
  },
  {
   "cell_type": "code",
   "execution_count": null,
   "metadata": {
    "colab": {
     "base_uri": "https://localhost:8080/",
     "height": 1000
    },
    "colab_type": "code",
    "executionInfo": {
     "elapsed": 1226871,
     "status": "ok",
     "timestamp": 1595441307292,
     "user": {
      "displayName": "Inge Bieger",
      "photoUrl": "https://lh3.googleusercontent.com/a-/AOh14Gg19iV-n7hy-5cBjBuNAo8XrK8iM-12R51FYKLW=s64",
      "userId": "00746164409980832396"
     },
     "user_tz": -120
    },
    "id": "o3e6j2ygGACh",
    "outputId": "4fdca823-9f0e-4d62-adec-fffe6044cecd"
   },
   "outputs": [],
   "source": [
    "n_dim_bins_seperate_sessions = []\n",
    "\n",
    "for i,session in enumerate(all_dat):\n",
    "    neurons = session['spks']\n",
    "    pca_input = get_n_dimensional_neurons(neurons, bin_size_ISI)\n",
    "    print(pca_input)\n",
    "    n_dim_bins_seperate_sessions.append(pca_input)\n",
    "\n",
    "#     with open(f'bins_session{i}_b{bin_size_ISI}.pkl', 'wb') as f:\n",
    "#         pickle.dump(pca_input, f)\n",
    "\n",
    "    np.save(f'processed_data/bins_session{i}_b{bin_size_ISI}.npy', pca_input)"
   ]
  },
  {
   "cell_type": "code",
   "execution_count": null,
   "metadata": {
    "colab": {},
    "colab_type": "code",
    "id": "d1j7-g4frtzn"
   },
   "outputs": [],
   "source": [
    "bin_size_ISI = 0.02\n",
    "\n",
    "n_dim_bins_seperate_sessions = []\n",
    "\n",
    "for i,session in enumerate(all_dat):\n",
    "    neurons = session['spks']\n",
    "    pca_input = get_n_dimensional_neurons(neurons, bin_size_ISI)\n",
    "    print(pca_input)\n",
    "    n_dim_bins_seperate_sessions.append(pca_input)\n",
    "\n",
    "#     with open(f'bins_session{i}_b{bin_size_ISI}.pkl', 'wb') as f:\n",
    "#         pickle.dump(pca_input, f)\n",
    "\n",
    "    np.save(f'processed_data/bins_session{i}_b{bin_size_ISI}.npy', pca_input)"
   ]
  },
  {
   "cell_type": "code",
   "execution_count": null,
   "metadata": {},
   "outputs": [],
   "source": [
    "for i in range(len(all_dat)):\n",
    "    np.save(f'processed_data/labels{i}.npy',all_dat[i]['brain_area'])"
   ]
  },
  {
   "cell_type": "code",
   "execution_count": 31,
   "metadata": {},
   "outputs": [
    {
     "name": "stdout",
     "output_type": "stream",
     "text": [
      "0\n"
     ]
    },
    {
     "ename": "KeyboardInterrupt",
     "evalue": "",
     "output_type": "error",
     "traceback": [
      "\u001b[1;31m---------------------------------------------------------------------------\u001b[0m",
      "\u001b[1;31mKeyboardInterrupt\u001b[0m                         Traceback (most recent call last)",
      "\u001b[1;32m<ipython-input-31-43ac06a0f22e>\u001b[0m in \u001b[0;36m<module>\u001b[1;34m()\u001b[0m\n\u001b[0;32m     13\u001b[0m         \u001b[0mneuron2\u001b[0m \u001b[1;33m=\u001b[0m \u001b[1;33m[\u001b[0m\u001b[1;33m]\u001b[0m\u001b[1;33m\u001b[0m\u001b[1;33m\u001b[0m\u001b[0m\n\u001b[0;32m     14\u001b[0m         \u001b[1;32mfor\u001b[0m \u001b[0mtrial\u001b[0m \u001b[1;32min\u001b[0m \u001b[0mneuron\u001b[0m\u001b[1;33m:\u001b[0m\u001b[1;33m\u001b[0m\u001b[1;33m\u001b[0m\u001b[0m\n\u001b[1;32m---> 15\u001b[1;33m             \u001b[0mspike_ints\u001b[0m\u001b[1;33m,\u001b[0m \u001b[0mspike_times\u001b[0m \u001b[1;33m=\u001b[0m \u001b[0mget_ISI_trial\u001b[0m\u001b[1;33m(\u001b[0m\u001b[0mtrial\u001b[0m\u001b[1;33m)\u001b[0m\u001b[1;33m\u001b[0m\u001b[1;33m\u001b[0m\u001b[0m\n\u001b[0m\u001b[0;32m     16\u001b[0m             \u001b[0mneuron_list\u001b[0m\u001b[1;33m.\u001b[0m\u001b[0mappend\u001b[0m\u001b[1;33m(\u001b[0m\u001b[0mspike_ints\u001b[0m\u001b[1;33m)\u001b[0m\u001b[1;33m\u001b[0m\u001b[1;33m\u001b[0m\u001b[0m\n\u001b[0;32m     17\u001b[0m             \u001b[0mneuron2\u001b[0m\u001b[1;33m.\u001b[0m\u001b[0mappend\u001b[0m\u001b[1;33m(\u001b[0m\u001b[0mspike_times\u001b[0m\u001b[1;33m)\u001b[0m\u001b[1;33m\u001b[0m\u001b[1;33m\u001b[0m\u001b[0m\n",
      "\u001b[1;32m<ipython-input-21-decb6b3f4297>\u001b[0m in \u001b[0;36mget_ISI_trial\u001b[1;34m(spike)\u001b[0m\n\u001b[0;32m      9\u001b[0m     \u001b[1;32mfor\u001b[0m \u001b[0mt\u001b[0m\u001b[1;33m,\u001b[0m\u001b[0ms\u001b[0m \u001b[1;32min\u001b[0m \u001b[0menumerate\u001b[0m\u001b[1;33m(\u001b[0m\u001b[0mspike\u001b[0m\u001b[1;33m)\u001b[0m\u001b[1;33m:\u001b[0m\u001b[1;33m\u001b[0m\u001b[1;33m\u001b[0m\u001b[0m\n\u001b[0;32m     10\u001b[0m         \u001b[1;32mfor\u001b[0m \u001b[0mi\u001b[0m \u001b[1;32min\u001b[0m \u001b[0mrange\u001b[0m\u001b[1;33m(\u001b[0m\u001b[0ms\u001b[0m\u001b[1;33m)\u001b[0m\u001b[1;33m:\u001b[0m\u001b[1;33m\u001b[0m\u001b[1;33m\u001b[0m\u001b[0m\n\u001b[1;32m---> 11\u001b[1;33m             \u001b[0mspike_times\u001b[0m \u001b[1;33m=\u001b[0m \u001b[0mnp\u001b[0m\u001b[1;33m.\u001b[0m\u001b[0mhstack\u001b[0m\u001b[1;33m(\u001b[0m\u001b[1;33m[\u001b[0m\u001b[0mspike_times\u001b[0m\u001b[1;33m,\u001b[0m \u001b[1;33m[\u001b[0m\u001b[0mt\u001b[0m\u001b[1;33m]\u001b[0m\u001b[1;33m]\u001b[0m\u001b[1;33m)\u001b[0m\u001b[1;33m\u001b[0m\u001b[1;33m\u001b[0m\u001b[0m\n\u001b[0m\u001b[0;32m     12\u001b[0m \u001b[1;33m\u001b[0m\u001b[0m\n\u001b[0;32m     13\u001b[0m     \u001b[0mspike_intervals\u001b[0m \u001b[1;33m=\u001b[0m \u001b[0mnp\u001b[0m\u001b[1;33m.\u001b[0m\u001b[0mdiff\u001b[0m\u001b[1;33m(\u001b[0m\u001b[0mspike_times\u001b[0m\u001b[1;33m)\u001b[0m \u001b[1;33m*\u001b[0m \u001b[0mBIN_SIZE_DATA\u001b[0m\u001b[1;33m\u001b[0m\u001b[1;33m\u001b[0m\u001b[0m\n",
      "\u001b[1;32m~\\Anaconda3\\lib\\site-packages\\numpy\\core\\shape_base.py\u001b[0m in \u001b[0;36mhstack\u001b[1;34m(tup)\u001b[0m\n\u001b[0;32m    336\u001b[0m     \u001b[1;31m# As a special case, dimension 0 of 1-dimensional arrays is \"horizontal\"\u001b[0m\u001b[1;33m\u001b[0m\u001b[1;33m\u001b[0m\u001b[1;33m\u001b[0m\u001b[0m\n\u001b[0;32m    337\u001b[0m     \u001b[1;32mif\u001b[0m \u001b[0marrs\u001b[0m \u001b[1;32mand\u001b[0m \u001b[0marrs\u001b[0m\u001b[1;33m[\u001b[0m\u001b[1;36m0\u001b[0m\u001b[1;33m]\u001b[0m\u001b[1;33m.\u001b[0m\u001b[0mndim\u001b[0m \u001b[1;33m==\u001b[0m \u001b[1;36m1\u001b[0m\u001b[1;33m:\u001b[0m\u001b[1;33m\u001b[0m\u001b[1;33m\u001b[0m\u001b[0m\n\u001b[1;32m--> 338\u001b[1;33m         \u001b[1;32mreturn\u001b[0m \u001b[0m_nx\u001b[0m\u001b[1;33m.\u001b[0m\u001b[0mconcatenate\u001b[0m\u001b[1;33m(\u001b[0m\u001b[0marrs\u001b[0m\u001b[1;33m,\u001b[0m \u001b[1;36m0\u001b[0m\u001b[1;33m)\u001b[0m\u001b[1;33m\u001b[0m\u001b[1;33m\u001b[0m\u001b[0m\n\u001b[0m\u001b[0;32m    339\u001b[0m     \u001b[1;32melse\u001b[0m\u001b[1;33m:\u001b[0m\u001b[1;33m\u001b[0m\u001b[1;33m\u001b[0m\u001b[0m\n\u001b[0;32m    340\u001b[0m         \u001b[1;32mreturn\u001b[0m \u001b[0m_nx\u001b[0m\u001b[1;33m.\u001b[0m\u001b[0mconcatenate\u001b[0m\u001b[1;33m(\u001b[0m\u001b[0marrs\u001b[0m\u001b[1;33m,\u001b[0m \u001b[1;36m1\u001b[0m\u001b[1;33m)\u001b[0m\u001b[1;33m\u001b[0m\u001b[1;33m\u001b[0m\u001b[0m\n",
      "\u001b[1;31mKeyboardInterrupt\u001b[0m: "
     ]
    }
   ],
   "source": [
    "all_sessions = []\n",
    "\n",
    "for i in range(len(all_dat)):\n",
    "    neurons = all_dat[i]['spks']\n",
    "    print(i)\n",
    "\n",
    "    data = []\n",
    "    data2 = []\n",
    "    for neuron in neurons:\n",
    "\n",
    "        #print(i)\n",
    "        neuron_list = []\n",
    "        neuron2 = []\n",
    "        for trial in neuron:\n",
    "            spike_ints, spike_times = get_ISI_trial(trial)\n",
    "            neuron_list.append(spike_ints)\n",
    "            neuron2.append(spike_times)\n",
    "        neuron_list = np.asarray(neuron_list)\n",
    "        data.append(neuron_list)\n",
    "        neuron2 = np.asarray(neuron2)\n",
    "        data2.append(neuron2)\n",
    "        \n",
    "    data = np.asarray(data)\n",
    "    data2 = np.asarray(data2)\n",
    "    \n",
    "    all_session.append([data, data])\n",
    "#     with open(f'bins_session{i}_b{bin_size_ISI}.pkl', 'wb') as f:\n",
    "#         pickle.dump(pca_input, f)\n",
    "    \n",
    "    #np.save(f'session{i}_ISI.npy', data)\n",
    "    #np.save(f'session{i}_spiketimes.npy', data)\n",
    "    "
   ]
  },
  {
   "cell_type": "code",
   "execution_count": 17,
   "metadata": {},
   "outputs": [
    {
     "ename": "NameError",
     "evalue": "name 'ISI' is not defined",
     "output_type": "error",
     "traceback": [
      "\u001b[1;31m---------------------------------------------------------------------------\u001b[0m",
      "\u001b[1;31mNameError\u001b[0m                                 Traceback (most recent call last)",
      "\u001b[1;32m<ipython-input-17-d8e4747d6cb2>\u001b[0m in \u001b[0;36m<module>\u001b[1;34m()\u001b[0m\n\u001b[1;32m----> 1\u001b[1;33m \u001b[0mprint\u001b[0m\u001b[1;33m(\u001b[0m\u001b[0mISI\u001b[0m\u001b[1;33m)\u001b[0m\u001b[1;33m\u001b[0m\u001b[1;33m\u001b[0m\u001b[0m\n\u001b[0m",
      "\u001b[1;31mNameError\u001b[0m: name 'ISI' is not defined"
     ]
    }
   ],
   "source": [
    "print(ISI)"
   ]
  }
 ],
 "metadata": {
  "colab": {
   "authorship_tag": "ABX9TyPkO5rrwzhZAvB7K7dx6+yi",
   "collapsed_sections": [],
   "name": "Data_to_PCA_bins.ipynb",
   "provenance": []
  },
  "kernelspec": {
   "display_name": "Python 3",
   "language": "python",
   "name": "python3"
  },
  "language_info": {
   "codemirror_mode": {
    "name": "ipython",
    "version": 3
   },
   "file_extension": ".py",
   "mimetype": "text/x-python",
   "name": "python",
   "nbconvert_exporter": "python",
   "pygments_lexer": "ipython3",
   "version": "3.7.3"
  }
 },
 "nbformat": 4,
 "nbformat_minor": 1
}
